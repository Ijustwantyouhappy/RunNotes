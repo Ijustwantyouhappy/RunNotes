{
 "cells": [
  {
   "cell_type": "code",
   "execution_count": 1,
   "metadata": {
    "ExecuteTime": {
     "end_time": "2019-10-22T07:06:40.850213Z",
     "start_time": "2019-10-22T07:06:40.241813Z"
    }
   },
   "outputs": [
    {
     "data": {
      "text/plain": [
       "'system: Microsoft Windows 10 教育版, 18363, 64 位'"
      ]
     },
     "execution_count": 1,
     "metadata": {},
     "output_type": "execute_result"
    },
    {
     "data": {
      "text/plain": [
       "'memory: 15.86G'"
      ]
     },
     "execution_count": 1,
     "metadata": {},
     "output_type": "execute_result"
    },
    {
     "data": {
      "text/plain": [
       "'cpu: 4'"
      ]
     },
     "execution_count": 1,
     "metadata": {},
     "output_type": "execute_result"
    },
    {
     "data": {
      "text/plain": [
       "'python: 3.7.1 (default, Oct 28 2018, 08:39:03) [MSC v.1912 64 bit (AMD64)]'"
      ]
     },
     "execution_count": 1,
     "metadata": {},
     "output_type": "execute_result"
    },
    {
     "data": {
      "text/plain": [
       "'2020-11-11 13:19:16'"
      ]
     },
     "execution_count": 1,
     "metadata": {},
     "output_type": "execute_result"
    }
   ],
   "source": [
    "import sys, time, wmi, psutil\n",
    "SYSTEM_INFO = wmi.WMI().Win32_OperatingSystem()[0]\n",
    "\"system: {0}, {1}, {2}\".format(SYSTEM_INFO.Caption, SYSTEM_INFO.BuildNumber, SYSTEM_INFO.OSArchitecture) \n",
    "\"memory: {}G\".format(round(psutil.virtual_memory().total / 1024**3, 2))\n",
    "\"cpu: {}\".format(psutil.cpu_count())\n",
    "\"python: {}\".format(sys.version)\n",
    "time.strftime('%Y-%m-%d %H:%M:%S', time.localtime(time.time()))"
   ]
  },
  {
   "cell_type": "markdown",
   "metadata": {},
   "source": [
    "- **@author**: run_walker\n",
    "- **@references**:\n",
    "    1. [Anaconda使用总结](http://python.jobbole.com/86236/)"
   ]
  },
  {
   "cell_type": "markdown",
   "metadata": {},
   "source": [
    "# 概念对比"
   ]
  },
  {
   "cell_type": "markdown",
   "metadata": {},
   "source": [
    "## anaconda\n",
    "Anaconda是一个用于科学计算的**Python发行版**，可以理解为一个打包的集合，里面预装好了以下内容：\n",
    "- conda工具\n",
    "- 某个版本的python\n",
    "- 众多packages，其中著名的包有`numpy`，`pandas`和`scipy`等等\n",
    "- 众多科学计算工具，其中著名的有jupyter notebook和spyder等等"
   ]
  },
  {
   "cell_type": "markdown",
   "metadata": {},
   "source": [
    "## Miniconda\n",
    "它只包含最基本的内容：\n",
    "- conda工具\n",
    "- 某个版本的python\n",
    "- 少量必须的依赖包\n",
    "\n",
    "主要优点是占用空间少，当空间很少时，Miniconda是一种选择。"
   ]
  },
  {
   "cell_type": "markdown",
   "metadata": {},
   "source": [
    "## conda\n",
    "anaconda里的核心工具，通过conda命令可以方便地进行**包管理**和**环境管理**。\n",
    "- 包管理：与pip的使用类似。\n",
    "- 环境管理：能够方便地安装不同版本的python，然后进行管理和切换。\n",
    "\n",
    "conda将几乎所有的工具、第三方包都当做package对待，甚至包括anaconda和conda自身！"
   ]
  },
  {
   "cell_type": "markdown",
   "metadata": {},
   "source": [
    "# 安装"
   ]
  },
  {
   "cell_type": "markdown",
   "metadata": {},
   "source": [
    "## 通过安装包\n",
    "1. 下载：[清华镜像](https://mirrors.tuna.tsinghua.edu.cn/anaconda/archive/)\n",
    "2. 安装时注意\n",
    "    * 安装目录不要有空格\n",
    "    * 在加入环境变量的选项上打钩"
   ]
  },
  {
   "cell_type": "markdown",
   "metadata": {},
   "source": [
    "# 配置镜像\n",
    "在命令行内使用conda指令，默认是从官方源下载安装，速度很慢，设置成国内镜像（比如清华镜像）可以大大加快下载速度。\n",
    "\n",
    "1. 添加Anaconda的清华镜像\n",
    "\n",
    "```bash\n",
    "conda config --add channels https://mirrors.tuna.tsinghua.edu.cn/anaconda/pkgs/free/\n",
    "```\n",
    "\n",
    "2. 设置搜索时显示通道地址\n",
    "\n",
    "```bash\n",
    "conda config --set show_channel_urls yes\n",
    "```\n",
    "\n",
    "3. 移除原channels（这一步可以不进行）\n",
    "\n",
    "```bash\n",
    "conda config --remove channels defaults \n",
    "```\n"
   ]
  },
  {
   "cell_type": "code",
   "execution_count": 3,
   "metadata": {
    "ExecuteTime": {
     "end_time": "2019-08-27T02:12:29.790454Z",
     "start_time": "2019-08-27T02:12:27.890453Z"
    },
    "scrolled": true
   },
   "outputs": [
    {
     "name": "stdout",
     "output_type": "stream",
     "text": [
      "add_anaconda_token: True\n",
      "add_pip_as_python_dependency: True\n",
      "allow_non_channel_urls: True\n",
      "allow_softlinks: False\n",
      "always_copy: False\n",
      "always_softlink: False\n",
      "always_yes: False\n",
      "anaconda_upload: None\n",
      "auto_update_conda: True\n",
      "changeps1: True\n",
      "channel_alias: https://conda.anaconda.org\n",
      "channel_priority: True\n",
      "channels:\n",
      "  - https://mirrors.tuna.tsinghua.edu.cn/anaconda/pkgs/free/\n",
      "  - defaults\n",
      "client_ssl_cert: None\n",
      "client_ssl_cert_key: None\n",
      "clobber: False\n",
      "create_default_packages: []\n",
      "custom_channels:\n",
      "  pkgs/free: https://repo.continuum.io/\n",
      "  pkgs/r: https://repo.continuum.io/\n",
      "  pkgs/msys2: https://repo.continuum.io/\n",
      "  pkgs/main: https://repo.continuum.io/\n",
      "  pkgs/pro: https://repo.continuum.io/\n",
      "custom_multichannels:\n",
      "  local: []\n",
      "  defaults: [\"https://repo.continuum.io/pkgs/main\", \"https://repo.continuum.io/pkgs/free\", \"https://repo.continuum.io/pkgs/r\", \"https://repo.continuum.io/pkgs/pro\", \"https://repo.continuum.io/pkgs/msys2\"]\n",
      "default_channels:\n",
      "  - https://repo.continuum.io/pkgs/main\n",
      "  - https://repo.continuum.io/pkgs/free\n",
      "  - https://repo.continuum.io/pkgs/r\n",
      "  - https://repo.continuum.io/pkgs/pro\n",
      "  - https://repo.continuum.io/pkgs/msys2\n",
      "disallow: []\n",
      "envs_dirs:\n",
      "  - D:\\anaconda3\\envs\n",
      "  - C:\\Users\\admin\\AppData\\Local\\conda\\conda\\envs\n",
      "  - C:\\Users\\admin\\.conda\\envs\n",
      "force: False\n",
      "json: False\n",
      "local_repodata_ttl: 1\n",
      "migrated_channel_aliases: []\n",
      "non_admin_enabled: True\n",
      "offline: False\n",
      "path_conflict: clobber\n",
      "pinned_packages: []\n",
      "pkgs_dirs:\n",
      "  - D:\\anaconda3\\pkgs\n",
      "  - C:\\Users\\admin\\AppData\\Local\\conda\\conda\\pkgs\n",
      "proxy_servers: {}\n",
      "quiet: False\n",
      "remote_connect_timeout_secs: 9.15\n",
      "remote_max_retries: 3\n",
      "remote_read_timeout_secs: 60.0\n",
      "rollback_enabled: True\n",
      "shortcuts: True\n",
      "show_channel_urls: True\n",
      "ssl_verify: True\n",
      "track_features: []\n",
      "use_pip: True\n",
      "verbosity: 0\n"
     ]
    }
   ],
   "source": [
    "!conda config --show"
   ]
  },
  {
   "cell_type": "markdown",
   "metadata": {},
   "source": [
    "# 更新常用工具\n",
    "由于`conda`将几乎所有的工具和第三方包都视为package，因此可以通过`conda update xxx`来管理conda、anaconda、python、pip、ipython等工具的版本。"
   ]
  },
  {
   "cell_type": "markdown",
   "metadata": {},
   "source": [
    "<div class=\"alert alert-block alert-warning\">\n",
    "    <i class=\"fa fa-sticky-note\" aria-hidden=\"true\"><b> Note:</b></i>\n",
    "    但实际使用下来的感觉是：\n",
    "    <ul>\n",
    "        <li>通过`conda`更新`pip`，总是毫无反应，还是建议通过`python -m pip install --upgrade pip`。</li>\n",
    "        <li>通过`conda`更新`python`，往往并不能将当前的3.x.y更新到3.x系列下最新的小版本。</li>\n",
    "    </ul>\n",
    "</div>"
   ]
  },
  {
   "cell_type": "markdown",
   "metadata": {},
   "source": [
    "在命令行中通过`-V`或者`--version`查看工具的版本。"
   ]
  },
  {
   "cell_type": "code",
   "execution_count": 18,
   "metadata": {
    "ExecuteTime": {
     "end_time": "2019-08-27T03:34:45.212203Z",
     "start_time": "2019-08-27T03:34:43.320202Z"
    }
   },
   "outputs": [
    {
     "name": "stdout",
     "output_type": "stream",
     "text": [
      "conda 4.3.30\n"
     ]
    }
   ],
   "source": [
    "!conda --version"
   ]
  },
  {
   "cell_type": "code",
   "execution_count": 14,
   "metadata": {
    "ExecuteTime": {
     "end_time": "2019-08-27T02:13:13.498454Z",
     "start_time": "2019-08-27T02:13:11.813461Z"
    }
   },
   "outputs": [
    {
     "name": "stdout",
     "output_type": "stream",
     "text": [
      "7.10.2\n"
     ]
    }
   ],
   "source": [
    "!ipython -V"
   ]
  },
  {
   "cell_type": "code",
   "execution_count": 6,
   "metadata": {
    "ExecuteTime": {
     "end_time": "2019-10-17T13:23:15.773134Z",
     "start_time": "2019-10-17T13:23:13.240735Z"
    }
   },
   "outputs": [
    {
     "name": "stdout",
     "output_type": "stream",
     "text": [
      "pip 20.2.4 from d:\\anaconda3\\envs\\python37\\lib\\site-packages\\pip (python 3.7)\n",
      "\n"
     ]
    }
   ],
   "source": [
    "!pip -V"
   ]
  },
  {
   "cell_type": "code",
   "execution_count": 13,
   "metadata": {
    "ExecuteTime": {
     "end_time": "2019-08-27T03:37:01.363201Z",
     "start_time": "2019-08-27T03:37:01.300202Z"
    }
   },
   "outputs": [
    {
     "name": "stdout",
     "output_type": "stream",
     "text": [
      "Python 3.7.1\n"
     ]
    }
   ],
   "source": [
    "!python -V"
   ]
  },
  {
   "cell_type": "markdown",
   "metadata": {},
   "source": [
    "# 虚拟环境"
   ]
  },
  {
   "cell_type": "markdown",
   "metadata": {},
   "source": [
    "## 查看\n",
    "当前被激活的环境前有一个星号。"
   ]
  },
  {
   "cell_type": "code",
   "execution_count": 1,
   "metadata": {},
   "outputs": [
    {
     "name": "stdout",
     "output_type": "stream",
     "text": [
      "# conda environments:\n",
      "#\n",
      "Real-Time-Voice-Cloning     D:\\anaconda3\\envs\\Real-Time-Voice-Cloning\n",
      "loreal_alg               D:\\anaconda3\\envs\\loreal_alg\n",
      "prophet                  D:\\anaconda3\\envs\\prophet\n",
      "python27                 D:\\anaconda3\\envs\\python27\n",
      "python36                 D:\\anaconda3\\envs\\python36\n",
      "python37              *  D:\\anaconda3\\envs\\python37\n",
      "python38                 D:\\anaconda3\\envs\\python38\n",
      "root                     D:\\anaconda3\n",
      "\n",
      "\n",
      "Note: you may need to restart the kernel to use updated packages.\n"
     ]
    }
   ],
   "source": [
    "conda info -e"
   ]
  },
  {
   "cell_type": "code",
   "execution_count": 2,
   "metadata": {},
   "outputs": [
    {
     "name": "stdout",
     "output_type": "stream",
     "text": [
      "# conda environments:\n",
      "#\n",
      "Real-Time-Voice-Cloning     D:\\anaconda3\\envs\\Real-Time-Voice-Cloning\n",
      "loreal_alg               D:\\anaconda3\\envs\\loreal_alg\n",
      "prophet                  D:\\anaconda3\\envs\\prophet\n",
      "python27                 D:\\anaconda3\\envs\\python27\n",
      "python36                 D:\\anaconda3\\envs\\python36\n",
      "python37              *  D:\\anaconda3\\envs\\python37\n",
      "python38                 D:\\anaconda3\\envs\\python38\n",
      "root                     D:\\anaconda3\n",
      "\n",
      "\n",
      "Note: you may need to restart the kernel to use updated packages.\n"
     ]
    }
   ],
   "source": [
    "conda env list"
   ]
  },
  {
   "cell_type": "markdown",
   "metadata": {},
   "source": [
    "## 创建\n",
    "以python2为例。注意：这种通过命令行进行下载的方式，有时候因为网速的原因会卡住很久，不知道进度如何。\n",
    "\n",
    "1. 命名为python2，指定python版本是2.7。这样安装的仅包含python解释器和少量基础包。\n",
    "\n",
    "```bash\n",
    "conda create --name python2 python=2.7\n",
    "```\n",
    "\n",
    "2. 为指定环境安装anoconda默认的所有包。\n",
    "\n",
    "```bash\n",
    "conda install --name python2 anaconda\n",
    "```\n",
    "\n",
    "以上两步操作可以合并为一步：\n",
    "```bash\n",
    "conda create --name python2 python=2.7 anaconda\n",
    "```"
   ]
  },
  {
   "cell_type": "markdown",
   "metadata": {},
   "source": [
    "## 切换\n",
    "- windows: `activate python2`\n",
    "- linux: `source activate python2`\n",
    "\n",
    "此时会发现terminal输入的地方前多了(python2)，实际上，此时系统做的事情就是把默认环境从PATH中去除，再把2对应的命令加入PATH。\n",
    "\n",
    "<div class=\"alert alert-block alert-warning\">\n",
    "    <i class=\"fa fa-sticky-note\" aria-hidden=\"true\"><b> Note:</b></i>奇怪的是该操作在cmd中生效，在powershell中失效。\n",
    "</div>\n",
    "\n",
    "* 关闭已激活环境，返回默认环境\n",
    "```bash\n",
    "deactivate python2\n",
    "```\n",
    "\n",
    "<div class=\"alert alert-block alert-warning\">\n",
    "    <i class=\"fa fa-sticky-note\" aria-hidden=\"true\"><b> Note:</b></i>\n",
    "    更一劳永逸的方式是：将每个版本的python解释器都更改名字（如python27.exe），然后将其路径添加到系统的环境变量，这样在命令行中无需切换，直接以不同名字启用，但可能会影响pip的正常使用。\n",
    "</div>"
   ]
  },
  {
   "cell_type": "code",
   "execution_count": 7,
   "metadata": {
    "ExecuteTime": {
     "end_time": "2019-08-27T03:25:29.121663Z",
     "start_time": "2019-08-27T03:25:29.020661Z"
    },
    "scrolled": true
   },
   "outputs": [
    {
     "name": "stdout",
     "output_type": "stream",
     "text": [
      "Python 3.7.1\n"
     ]
    }
   ],
   "source": [
    "!python --version"
   ]
  },
  {
   "cell_type": "code",
   "execution_count": 8,
   "metadata": {
    "ExecuteTime": {
     "end_time": "2019-08-27T03:25:50.201660Z",
     "start_time": "2019-08-27T03:25:49.657661Z"
    }
   },
   "outputs": [
    {
     "name": "stderr",
     "output_type": "stream",
     "text": [
      "Python 2.7.14 :: Anaconda, Inc.\n"
     ]
    }
   ],
   "source": [
    "!\"D:\\anaconda3\\envs\\python27\\python\" --version"
   ]
  },
  {
   "cell_type": "markdown",
   "metadata": {},
   "source": [
    "## 删除\n",
    "```bash\n",
    "conda remove --name env_name --all\n",
    "```"
   ]
  },
  {
   "cell_type": "markdown",
   "metadata": {},
   "source": [
    "## 修改环境名称\n",
    "先拷贝，再删除旧环境。\n",
    "```bash\n",
    "conda create --name new_env_name --clone old_env_name\n",
    "conda remove --name old_env_name --all \n",
    "```"
   ]
  },
  {
   "cell_type": "markdown",
   "metadata": {},
   "source": [
    "## 迁移\n",
    "**情形：**\n",
    "1. 在不同电脑之间迁移环境；\n",
    "2. 或者将电脑中已有的其他环境放入anaconda内，通过conda一起进行管理。\n",
    "\n",
    "**方法：**\n",
    "* 如果是情形2，先将其路径从环境变量中删除\n",
    "* 再将其连同文件夹整个放入anaconda安装目录下的envs文件夹内\n",
    "* 将新的路径添加进环境变量内（注意，除了其本身外，还有 `Scripts` 文件夹）\n",
    "* 通过`conda info -e`查看所有虚拟环境，检测是否成功导入"
   ]
  },
  {
   "cell_type": "markdown",
   "metadata": {},
   "source": [
    "# 常用的conda指令"
   ]
  },
  {
   "cell_type": "markdown",
   "metadata": {},
   "source": [
    "## 查看可以使用的命令"
   ]
  },
  {
   "cell_type": "code",
   "execution_count": 8,
   "metadata": {
    "ExecuteTime": {
     "end_time": "2019-08-27T03:29:04.428666Z",
     "start_time": "2019-08-27T03:29:02.670664Z"
    },
    "scrolled": true
   },
   "outputs": [
    {
     "name": "stderr",
     "output_type": "stream",
     "text": [
      "usage: conda config [-h] [--json] [--debug] [--verbose]\n",
      "                    [--system | --env | --file FILE]\n",
      "                    (--show | --show-sources | --validate | --describe | --get [KEY [KEY ...]] | --append KEY VALUE | --prepend KEY VALUE | --set KEY VALUE | --remove KEY VALUE | --remove-key KEY)\n",
      "conda config: error: one of the arguments --show --show-sources --validate --describe --get --append --prepend/--add --set --remove --remove-key is required\n"
     ]
    },
    {
     "name": "stdout",
     "output_type": "stream",
     "text": [
      "\n",
      "Note: you may need to restart the kernel to use updated packages.\n"
     ]
    }
   ],
   "source": [
    "conda config ?"
   ]
  },
  {
   "cell_type": "markdown",
   "metadata": {},
   "source": [
    "## 查看channels等信息"
   ]
  },
  {
   "cell_type": "code",
   "execution_count": 9,
   "metadata": {
    "ExecuteTime": {
     "end_time": "2019-08-27T03:29:15.739669Z",
     "start_time": "2019-08-27T03:29:13.883663Z"
    },
    "scrolled": true
   },
   "outputs": [
    {
     "name": "stdout",
     "output_type": "stream",
     "text": [
      "add_anaconda_token: True\n",
      "add_pip_as_python_dependency: True\n",
      "allow_non_channel_urls: True\n",
      "allow_softlinks: False\n",
      "always_copy: False\n",
      "always_softlink: False\n",
      "always_yes: False\n",
      "anaconda_upload: None\n",
      "auto_update_conda: True\n",
      "changeps1: True\n",
      "channel_alias: https://conda.anaconda.org\n",
      "channel_priority: True\n",
      "channels:\n",
      "  - https://mirrors.tuna.tsinghua.edu.cn/anaconda/pkgs/free/\n",
      "  - defaults\n",
      "client_ssl_cert: None\n",
      "client_ssl_cert_key: None\n",
      "clobber: False\n",
      "create_default_packages: []\n",
      "custom_channels:\n",
      "  pkgs/main: https://repo.continuum.io/\n",
      "  pkgs/msys2: https://repo.continuum.io/\n",
      "  pkgs/r: https://repo.continuum.io/\n",
      "  pkgs/free: https://repo.continuum.io/\n",
      "  pkgs/pro: https://repo.continuum.io/\n",
      "custom_multichannels:\n",
      "  defaults: [\"https://repo.continuum.io/pkgs/main\", \"https://repo.continuum.io/pkgs/free\", \"https://repo.continuum.io/pkgs/r\", \"https://repo.continuum.io/pkgs/pro\", \"https://repo.continuum.io/pkgs/msys2\"]\n",
      "  local: []\n",
      "default_channels:\n",
      "  - https://repo.continuum.io/pkgs/main\n",
      "  - https://repo.continuum.io/pkgs/free\n",
      "  - https://repo.continuum.io/pkgs/r\n",
      "  - https://repo.continuum.io/pkgs/pro\n",
      "  - https://repo.continuum.io/pkgs/msys2\n",
      "disallow: []\n",
      "envs_dirs:\n",
      "  - D:\\anaconda3\\envs\n",
      "  - C:\\Users\\admin\\AppData\\Local\\conda\\conda\\envs\n",
      "  - C:\\Users\\admin\\.conda\\envs\n",
      "force: False\n",
      "json: False\n",
      "local_repodata_ttl: 1\n",
      "migrated_channel_aliases: []\n",
      "non_admin_enabled: True\n",
      "offline: False\n",
      "path_conflict: clobber\n",
      "pinned_packages: []\n",
      "pkgs_dirs:\n",
      "  - D:\\anaconda3\\pkgs\n",
      "  - C:\\Users\\admin\\AppData\\Local\\conda\\conda\\pkgs\n",
      "proxy_servers: {}\n",
      "quiet: False\n",
      "remote_connect_timeout_secs: 9.15\n",
      "remote_max_retries: 3\n",
      "remote_read_timeout_secs: 60.0\n",
      "rollback_enabled: True\n",
      "shortcuts: True\n",
      "show_channel_urls: True\n",
      "ssl_verify: True\n",
      "track_features: []\n",
      "use_pip: True\n",
      "verbosity: 0\n"
     ]
    }
   ],
   "source": [
    "!conda config --show"
   ]
  },
  {
   "cell_type": "markdown",
   "metadata": {
    "ExecuteTime": {
     "end_time": "2018-01-24T06:41:04.274619Z",
     "start_time": "2018-01-24T06:41:03.121584Z"
    }
   },
   "source": [
    "## 查看已安装的包\n",
    "```bash\n",
    "conda list\n",
    "```\n",
    "在jupyter内conda选项卡下也可以查看（但是为jupyter安装了nbextensions后，打开conda选项卡会出现Internal Server Error，无法显示已安装的包）"
   ]
  },
  {
   "cell_type": "markdown",
   "metadata": {},
   "source": [
    "**查看指定环境的已安装包：**\n",
    "```bash\n",
    "conda list -n env_name\n",
    "```\n",
    "其中`-n`和`--name`可以相互替代。"
   ]
  },
  {
   "cell_type": "markdown",
   "metadata": {},
   "source": [
    "## 包的相关操作\n",
    "以numpy为例\n",
    "\n",
    "### 查找\n",
    "```bash\n",
    "conda search numpy\n",
    "```\n",
    "\n",
    "### 安装\n",
    "\n",
    "#### conda\n",
    "可以用 -n 指令指定给某个环境安装包，如果不用 -n 指定环境名称，则被安装在当前环境，也可以通过 -c 指定通过某个channel安装\n",
    "```bash\n",
    "conda install numpy\n",
    "```\n",
    "同时安装多个包\n",
    "```bash\n",
    "conda install numpy scipy pandas\n",
    "```\n",
    "\n",
    "#### pip\n",
    "pip安装包时使用镜像的命令是 -i，可以用的镜像有\n",
    "* https://pypi.douban.com/simple/ 豆瓣镜像\n",
    "* http://mirrors.aliyun.com/pypi/simple 阿里云镜像\n",
    "* https://pypi.mirrors.ustc.edu.cn/simple/  中科大镜像\n",
    "* https://pypi.tuna.tsinghua.edu.cn/simple/  清华镜像\n",
    " \n",
    "### 更新\n",
    "同样可以使用 -n 指令 \n",
    "```bash\n",
    "conda update numpy\n",
    "```\n",
    "将当前环境下所有的软件包都更新到最新\n",
    "```bash\n",
    "conda update --all\n",
    "```\n",
    "\n",
    "### 删除\n",
    "同样可以使用 -n 指令 \n",
    "```bash\n",
    "conda remove numpy\n",
    "```\n"
   ]
  },
  {
   "cell_type": "markdown",
   "metadata": {},
   "source": [
    "# FAQ"
   ]
  },
  {
   "cell_type": "markdown",
   "metadata": {},
   "source": [
    "## module 'pip' has no attribute 'main'\n",
    "pip无法安装或更新，安装方法详见[pip > installation](https://pip.pypa.io/en/stable/installing/)\n",
    "1. `curl https://bootstrap.pypa.io/get-pip.py -o get-pip.py`\n",
    "2. `python get-pip.py`"
   ]
  },
  {
   "cell_type": "code",
   "execution_count": null,
   "metadata": {},
   "outputs": [],
   "source": []
  }
 ],
 "metadata": {
  "anaconda-cloud": {},
  "hide_input": false,
  "kernelspec": {
   "display_name": "python37",
   "language": "python",
   "name": "python37"
  },
  "language_info": {
   "codemirror_mode": {
    "name": "ipython",
    "version": 3
   },
   "file_extension": ".py",
   "mimetype": "text/x-python",
   "name": "python",
   "nbconvert_exporter": "python",
   "pygments_lexer": "ipython3",
   "version": "3.7.1"
  },
  "latex_envs": {
   "LaTeX_envs_menu_present": true,
   "autoclose": false,
   "autocomplete": true,
   "bibliofile": "biblio.bib",
   "cite_by": "apalike",
   "current_citInitial": 1,
   "eqLabelWithNumbers": true,
   "eqNumInitial": 1,
   "hotkeys": {
    "equation": "Ctrl-E",
    "itemize": "Ctrl-I"
   },
   "labels_anchors": false,
   "latex_user_defs": false,
   "report_style_numbering": false,
   "user_envs_cfg": false
  },
  "nbTranslate": {
   "displayLangs": [
    "*"
   ],
   "hotkey": "alt-t",
   "langInMainMenu": true,
   "sourceLang": "en",
   "targetLang": "fr",
   "useGoogleTranslate": true
  },
  "toc": {
   "base_numbering": 1,
   "nav_menu": {},
   "number_sections": true,
   "sideBar": true,
   "skip_h1_title": false,
   "title_cell": "Table of Contents",
   "title_sidebar": "Contents",
   "toc_cell": false,
   "toc_position": {
    "height": "610px",
    "left": "0px",
    "right": "1177.2px",
    "top": "134px",
    "width": "325px"
   },
   "toc_section_display": "block",
   "toc_window_display": true
  },
  "varInspector": {
   "cols": {
    "lenName": 16,
    "lenType": 16,
    "lenVar": 40
   },
   "kernels_config": {
    "python": {
     "delete_cmd_postfix": "",
     "delete_cmd_prefix": "del ",
     "library": "var_list.py",
     "varRefreshCmd": "print(var_dic_list())"
    },
    "r": {
     "delete_cmd_postfix": ") ",
     "delete_cmd_prefix": "rm(",
     "library": "var_list.r",
     "varRefreshCmd": "cat(var_dic_list()) "
    }
   },
   "types_to_exclude": [
    "module",
    "function",
    "builtin_function_or_method",
    "instance",
    "_Feature"
   ],
   "window_display": false
  }
 },
 "nbformat": 4,
 "nbformat_minor": 4
}